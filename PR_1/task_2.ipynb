{
 "cells": [
  {
   "cell_type": "markdown",
   "metadata": {},
   "source": [
    "# Задание 3 - Операции с матрицами в NumPy\n",
    "\n",
    "## Картунчиков Артем ББМО-01-23\n",
    "\n",
    "## Задание\n",
    "\n",
    "1. Докажите, что транспонирование транспонированной матрицы - это сама матрица: $(\\mathbf{A}^\\top)^\\top = \\mathbf{A}$.\n",
    "2. Для двух матриц $\\mathbf{A}$ и $\\mathbf{B}$, покажите, что сумма и транспозиция коммутируют: $\\mathbf{A}^\\top + \\mathbf{B}^\\top = (\\mathbf{A} + \\mathbf{B})^\\top$.\n",
    "3. Для любой квадратичной матрицы $\\mathbf{A}$, сумма матриц $\\mathbf{A} + \\mathbf{A}^\\top$ всегда ли симметрична? Можете ли вы доказать это, используя только предыдущие два упражнения?\n",
    "4. Мы определяли тензор `X` размерности (2, 3, 4). Что возвращает функция `len(X)`? Попробуйте записать ответ используя воображение, потом проверьте свой ответ в среде программирования. \n",
    "5. Для тензора `X` произвольной размерности, всегда ли функция `len(X)` возвращает длину тензора по оси `X`? Что такое ось?\n",
    "6. Запустите следующий фрагмент кода `A / A.sum(axis=1)` и проверьте полученный результат. Можете пояснить причину?\n",
    "7. Рассмотрим тензор размерности (2, 3, 4). Какие размерности можно получить при суммирования элементов тензора по осям 0, 1 и 2?\n",
    "9. Передайте тензор с 3 или более осями в функцию `linalg.norm` и наблюдайте за его выводом. Что эта функция вычисляет для тензоров произвольной формы?\n",
    "10. Определите 3 матрицы $\\mathbf{A} \\in \\mathbb{R}^{2^{10} \\times 2^{16}}$, $\\mathbf{B} \\in \\mathbb{R}^{2^{16} \\times 2^{5}}$ и $\\mathbf{C} \\in \\mathbb{R}^{2^{5} \\times 2^{14}}$, содержащие случайные переменные, распределенные по нормальному закону распределения. Вычислите произведение матриц: $\\mathbf{A} \\mathbf{B} \\mathbf{C}$. Есть ли какая-либо разница в объеме памяти и скорости в зависимости от того, вычилсяете Вы $(\\mathbf{A} \\mathbf{B}) \\mathbf{C}$ или $\\mathbf{A} (\\mathbf{B} \\mathbf{C})$. Объясните результаты?\n",
    "11. Определите 3 матрицы $\\mathbf{A} \\in \\mathbb{R}^{2^{10} \\times 2^{16}}$, $\\mathbf{B} \\in \\mathbb{R}^{2^{16} \\times 2^{5}}$ and $\\mathbf{C} \\in \\mathbb{R}^{2^{5} \\times 2^{16}}$. Есть ли какая-либо разница в объеме памяти и скорости в зависимости от того, вычилсяете Вы $\\mathbf{A} \\mathbf{B}$ или $\\mathbf{A} \\mathbf{C}^\\top$? Объясните результаты? Что изменится, если обозначить $\\mathbf{C} = \\mathbf{B}^\\top$ без процедуры клонирования памяти? \n",
    "12. Определите 3 матрицы $\\mathbf{A}, \\mathbf{B}, \\mathbf{C} \\in \\mathbb{R}^{100 \\times 200}$. Сформируйте тензор с 3-мя осями путем объединения матриц $[\\mathbf{A}, \\mathbf{B}, \\mathbf{C}]$. Какова размерность софрмирвоанного тензора? Вырежьте вторую координату третьей оси, чтобы восстановить $\\mathbf{B}$. Проверьте, что ваш ответ правильный.\n"
   ]
  },
  {
   "cell_type": "markdown",
   "metadata": {},
   "source": [
    "Импортируем нужные библиотеки"
   ]
  },
  {
   "cell_type": "code",
   "execution_count": 15,
   "metadata": {},
   "outputs": [],
   "source": [
    "import numpy as np\n",
    "import time\n",
    "\n"
   ]
  },
  {
   "cell_type": "markdown",
   "metadata": {},
   "source": [
    "## 1. Докажите, что транспонирование транспонированной матрицы - это сама матрица: $(\\mathbf{A}^\\top)^\\top = \\mathbf{A}$."
   ]
  },
  {
   "cell_type": "code",
   "execution_count": 5,
   "metadata": {},
   "outputs": [
    {
     "name": "stdout",
     "output_type": "stream",
     "text": [
      "[[1 2 3]\n",
      " [4 5 6]]\n",
      "Матрицы равны\n"
     ]
    }
   ],
   "source": [
    "A = np.array([[1, 2, 3],\n",
    "              [4, 5, 6]])\n",
    "\n",
    "\n",
    "A_transpose_twice = A.T.T\n",
    "\n",
    "print (A_transpose_twice)\n",
    "\n",
    "are_equal = np.array_equal(A, A_transpose_twice)\n",
    "\n",
    "if are_equal: \n",
    "    print(\"Матрицы равны\")\n"
   ]
  },
  {
   "cell_type": "markdown",
   "metadata": {},
   "source": [
    "## 2. Для двух матриц $\\mathbf{A}$ и $\\mathbf{B}$, покажите, что сумма и транспозиция коммутируют: $\\mathbf{A}^\\top + \\mathbf{B}^\\top = (\\mathbf{A} + \\mathbf{B})^\\top$."
   ]
  },
  {
   "cell_type": "code",
   "execution_count": 6,
   "metadata": {},
   "outputs": [
    {
     "name": "stdout",
     "output_type": "stream",
     "text": [
      "[[ 6 10]\n",
      " [ 8 12]]\n",
      "[[ 6 10]\n",
      " [ 8 12]]\n",
      "Матрицы равны\n"
     ]
    }
   ],
   "source": [
    "A = np.array([[1, 2],\n",
    "              [3, 4]])\n",
    "\n",
    "B = np.array([[5, 6],\n",
    "              [7, 8]])\n",
    "\n",
    "\n",
    "left_side = A.T + B.T\n",
    "print(left_side)\n",
    "\n",
    "right_side = (A + B).T\n",
    "print(right_side)\n",
    "\n",
    "are_equal = np.array_equal(left_side, right_side)\n",
    "if are_equal:\n",
    "    print(\"Матрицы равны\")"
   ]
  },
  {
   "cell_type": "markdown",
   "metadata": {},
   "source": [
    "## 3. Для любой квадратичной матрицы $\\mathbf{A}$, сумма матриц $\\mathbf{A} + \\mathbf{A}^\\top$ всегда ли симметрична? Можете ли вы доказать это, используя только предыдущие два упражнения?"
   ]
  },
  {
   "cell_type": "code",
   "execution_count": 7,
   "metadata": {},
   "outputs": [
    {
     "name": "stdout",
     "output_type": "stream",
     "text": [
      "Матрицы равны\n"
     ]
    }
   ],
   "source": [
    "A = np.random.randint(1, 10, size=(3, 3))\n",
    "\n",
    "S = A + A.T\n",
    "S_transposed = S.T\n",
    "\n",
    "are_equal = np.array_equal(S, S_transposed)\n",
    "\n",
    "if are_equal:\n",
    "    print(\"Матрицы равны\")"
   ]
  },
  {
   "cell_type": "markdown",
   "metadata": {},
   "source": [
    "## 4. Мы определяли тензор `X` размерности (2, 3, 4). Что возвращает функция `len(X)`? Попробуйте записать ответ используя воображение, потом проверьте свой ответ в среде программирования. "
   ]
  },
  {
   "cell_type": "code",
   "execution_count": 8,
   "metadata": {},
   "outputs": [
    {
     "name": "stdout",
     "output_type": "stream",
     "text": [
      "2\n"
     ]
    }
   ],
   "source": [
    "X = np.zeros((2, 3, 4))\n",
    "print(len(X))"
   ]
  },
  {
   "cell_type": "markdown",
   "metadata": {},
   "source": [
    "## 5. Для тензора `X` произвольной размерности, всегда ли функция `len(X)` возвращает длину тензора по оси `X`? Что такое ось?"
   ]
  },
  {
   "cell_type": "code",
   "execution_count": 11,
   "metadata": {},
   "outputs": [
    {
     "name": "stdout",
     "output_type": "stream",
     "text": [
      "3\n",
      "4\n",
      "74\n"
     ]
    }
   ],
   "source": [
    "print(len(np.random.rand(3, 5)))\n",
    "print(len(np.random.rand(4, 2, 1)))\n",
    "print(len(np.random.rand(74, 2, 4, 0)))\n",
    "\n",
    "# Функция len(X) возвращает длину тензора только по его первой оси, то есть длину первого измерения.\n",
    "\n",
    "# Ось в тензорах - это направление или измерение, вдоль которого происходят операции. В многомерных массивах, таких как тензоры, каждая ось представляет собой отдельное измерение данных.\n"
   ]
  },
  {
   "cell_type": "markdown",
   "metadata": {},
   "source": [
    "## 6. Запустите следующий фрагмент кода `A / A.sum(axis=1)` и проверьте полученный результат. Можете пояснить причину?\n",
    "\n",
    "Мы получили ошибку, так как при делении вторая строка матрицы A содержит нулевую сумму. Это приводит к попытке деления на ноль."
   ]
  },
  {
   "cell_type": "code",
   "execution_count": 12,
   "metadata": {},
   "outputs": [
    {
     "ename": "ValueError",
     "evalue": "operands could not be broadcast together with shapes (2,3) (2,) ",
     "output_type": "error",
     "traceback": [
      "\u001b[1;31m---------------------------------------------------------------------------\u001b[0m",
      "\u001b[1;31mValueError\u001b[0m                                Traceback (most recent call last)",
      "Cell \u001b[1;32mIn[12], line 4\u001b[0m\n\u001b[0;32m      1\u001b[0m A \u001b[38;5;241m=\u001b[39m np\u001b[38;5;241m.\u001b[39marray([[\u001b[38;5;241m1\u001b[39m, \u001b[38;5;241m2\u001b[39m, \u001b[38;5;241m3\u001b[39m],\n\u001b[0;32m      2\u001b[0m               [\u001b[38;5;241m0\u001b[39m, \u001b[38;5;241m0\u001b[39m, \u001b[38;5;241m0\u001b[39m]])\n\u001b[1;32m----> 4\u001b[0m result \u001b[38;5;241m=\u001b[39m \u001b[43mA\u001b[49m\u001b[43m \u001b[49m\u001b[38;5;241;43m/\u001b[39;49m\u001b[43m \u001b[49m\u001b[43mA\u001b[49m\u001b[38;5;241;43m.\u001b[39;49m\u001b[43msum\u001b[49m\u001b[43m(\u001b[49m\u001b[43maxis\u001b[49m\u001b[38;5;241;43m=\u001b[39;49m\u001b[38;5;241;43m1\u001b[39;49m\u001b[43m)\u001b[49m\n\u001b[0;32m      5\u001b[0m \u001b[38;5;28mprint\u001b[39m(result)\n",
      "\u001b[1;31mValueError\u001b[0m: operands could not be broadcast together with shapes (2,3) (2,) "
     ]
    }
   ],
   "source": [
    "A = np.array([[1, 2, 3],\n",
    "              [0, 0, 0]])\n",
    "\n",
    "result = A / A.sum(axis=1)\n",
    "print(result)"
   ]
  },
  {
   "cell_type": "markdown",
   "metadata": {},
   "source": [
    "## 7. Рассмотрим тензор размерности (2, 3, 4). Какие размерности можно получить при суммирования элементов тензора по осям 0, 1 и 2?"
   ]
  },
  {
   "cell_type": "code",
   "execution_count": 13,
   "metadata": {},
   "outputs": [
    {
     "name": "stdout",
     "output_type": "stream",
     "text": [
      "(3, 4)\n",
      "(2, 4)\n",
      "(2, 3)\n"
     ]
    }
   ],
   "source": [
    "\n",
    "X = np.random.rand(2, 3, 4)\n",
    "\n",
    "\n",
    "sum_axis_0 = X.sum(axis=0)\n",
    "print(sum_axis_0.shape) \n",
    "\n",
    "\n",
    "sum_axis_1 = X.sum(axis=1)\n",
    "print(sum_axis_1.shape)  \n",
    "\n",
    "\n",
    "sum_axis_2 = X.sum(axis=2)\n",
    "print(sum_axis_2.shape)  # Выводит размерность результата"
   ]
  },
  {
   "cell_type": "markdown",
   "metadata": {},
   "source": [
    "## 9. Передайте тензор с 3 или более осями в функцию `linalg.norm` и наблюдайте за его выводом. Что эта функция вычисляет для тензоров произвольной формы?\n",
    "\n",
    "\n",
    "Функция linalg.norm используется для вычисления нормы (длины) вектора или матрицы. "
   ]
  },
  {
   "cell_type": "code",
   "execution_count": 14,
   "metadata": {},
   "outputs": [
    {
     "name": "stdout",
     "output_type": "stream",
     "text": [
      "Норма тензора: 2.777515268276199\n"
     ]
    }
   ],
   "source": [
    "tensor = np.random.rand(3, 3, 3)\n",
    "\n",
    "norm = np.linalg.norm(tensor)\n",
    "\n",
    "print(\"Норма тензора:\", norm)"
   ]
  },
  {
   "cell_type": "markdown",
   "metadata": {},
   "source": [
    "## 10. Определите 3 матрицы $\\mathbf{A} \\in \\mathbb{R}^{2^{10} \\times 2^{16}}$, $\\mathbf{B} \\in \\mathbb{R}^{2^{16} \\times 2^{5}}$ и $\\mathbf{C} \\in \\mathbb{R}^{2^{5} \\times 2^{14}}$, содержащие случайные переменные, распределенные по нормальному закону распределения. Вычислите произведение матриц: $\\mathbf{A} \\mathbf{B} \\mathbf{C}$. Есть ли какая-либо разница в объеме памяти и скорости в зависимости от того, вычилсяете Вы $(\\mathbf{A} \\mathbf{B}) \\mathbf{C}$ или $\\mathbf{A} (\\mathbf{B} \\mathbf{C})$. Объясните результаты?\n",
    "\n",
    "По обычным правилам матричного умножения (AB)C и A(BC) должны давать одинаковые результаты. Однако может быть различие в скорости выполнения из-за различий в оптимизации вычислений библиотекой NumPy."
   ]
  },
  {
   "cell_type": "code",
   "execution_count": 18,
   "metadata": {},
   "outputs": [
    {
     "name": "stdout",
     "output_type": "stream",
     "text": [
      "Время для (A * B * C): 0.09308409690856934\n",
      "Время для (A * (B * C)): 11.575934648513794\n"
     ]
    }
   ],
   "source": [
    "A_shape = (2**10, 2**16)\n",
    "B_shape = (2**16, 2**5)\n",
    "C_shape = (2**5, 2**14)\n",
    "\n",
    "A = np.random.randn(*A_shape)\n",
    "B = np.random.randn(*B_shape)\n",
    "C = np.random.randn(*C_shape)\n",
    "\n",
    "start_time = time.time()\n",
    "result1 = np.dot(np.dot(A, B), C)\n",
    "end_time = time.time()\n",
    "time1 = end_time - start_time\n",
    "\n",
    "start_time = time.time()\n",
    "result2 = np.dot(A, np.dot(B, C))\n",
    "end_time = time.time()\n",
    "time2 = end_time - start_time\n",
    "\n",
    "\n",
    "print(\"Время для (A * B * C):\", time1)\n",
    "print(\"Время для (A * (B * C)):\", time2)"
   ]
  },
  {
   "cell_type": "markdown",
   "metadata": {},
   "source": [
    "## 11. Определите 3 матрицы $\\mathbf{A} \\in \\mathbb{R}^{2^{10} \\times 2^{16}}$, $\\mathbf{B} \\in \\mathbb{R}^{2^{16} \\times 2^{5}}$ and $\\mathbf{C} \\in \\mathbb{R}^{2^{5} \\times 2^{16}}$. Есть ли какая-либо разница в объеме памяти и скорости в зависимости от того, вычилсяете Вы $\\mathbf{A} \\mathbf{B}$ или $\\mathbf{A} \\mathbf{C}^\\top$? Объясните результаты? Что изменится, если обозначить $\\mathbf{C} = \\mathbf{B}^\\top$ без процедуры клонирования памяти? \n",
    "\n",
    "Eсли мы определим C=B^⊤ без процедуры клонирования памяти, то при создании переменной, которая ссылается на уже существующий массив, фактическое копирование памяти может произойти только тогда, когда переменная изменяется. "
   ]
  },
  {
   "cell_type": "code",
   "execution_count": 20,
   "metadata": {},
   "outputs": [
    {
     "name": "stdout",
     "output_type": "stream",
     "text": [
      "Время для (A * B): 0.057559967041015625\n",
      "Время для (A * C^T): 0.05304861068725586\n"
     ]
    }
   ],
   "source": [
    "C_shape = (2**5, 2**16)\n",
    "C = np.random.randn(*C_shape)\n",
    "\n",
    "start_time = time.time()\n",
    "result_AB = np.dot(A, B)\n",
    "end_time = time.time()\n",
    "time_AB = end_time - start_time\n",
    "\n",
    "\n",
    "start_time = time.time()\n",
    "result_ACT = np.dot(A, C.T)\n",
    "end_time = time.time()\n",
    "time_ACT = end_time - start_time\n",
    "\n",
    "\n",
    "\n",
    "print(\"Время для (A * B):\", time_AB)\n",
    "\n",
    "print(\"Время для (A * C^T):\", time_ACT)"
   ]
  },
  {
   "cell_type": "markdown",
   "metadata": {},
   "source": [
    "## 12. Определите 3 матрицы $\\mathbf{A}, \\mathbf{B}, \\mathbf{C} \\in \\mathbb{R}^{100 \\times 200}$. Сформируйте тензор с 3-мя осями путем объединения матриц $[\\mathbf{A}, \\mathbf{B}, \\mathbf{C}]$. Какова размерность софрмирвоанного тензора? Вырежьте вторую координату третьей оси, чтобы восстановить $\\mathbf{B}$. Проверьте, что ваш ответ правильный.\n"
   ]
  },
  {
   "cell_type": "code",
   "execution_count": 22,
   "metadata": {},
   "outputs": [
    {
     "name": "stdout",
     "output_type": "stream",
     "text": [
      "Размерность тензора: (100, 200, 3)\n",
      "Матрица B восстановлена успешно: True\n"
     ]
    }
   ],
   "source": [
    "\n",
    "matrix_shape = (100, 200)\n",
    "\n",
    "\n",
    "A = np.random.randn(*matrix_shape)\n",
    "B = np.random.randn(*matrix_shape)\n",
    "C = np.random.randn(*matrix_shape)\n",
    "\n",
    "\n",
    "tensor = np.stack([A, B, C], axis=2)\n",
    "\n",
    "\n",
    "print(\"Размерность тензора:\", tensor.shape)\n",
    "\n",
    "\n",
    "B_restored = tensor[:, :, 1]\n",
    "\n",
    "\n",
    "print(\"Матрица B восстановлена успешно:\", np.array_equal(B, B_restored))"
   ]
  }
 ],
 "metadata": {
  "kernelspec": {
   "display_name": "Python 3",
   "language": "python",
   "name": "python3"
  },
  "language_info": {
   "codemirror_mode": {
    "name": "ipython",
    "version": 3
   },
   "file_extension": ".py",
   "mimetype": "text/x-python",
   "name": "python",
   "nbconvert_exporter": "python",
   "pygments_lexer": "ipython3",
   "version": "3.12.0"
  }
 },
 "nbformat": 4,
 "nbformat_minor": 2
}
